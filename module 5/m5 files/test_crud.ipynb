{
 "cells": [
  {
   "cell_type": "code",
   "execution_count": 1,
   "id": "c8efb251",
   "metadata": {
    "scrolled": true
   },
   "outputs": [
    {
     "name": "stdout",
     "output_type": "stream",
     "text": [
      "Create: True\n",
      "Read: "
     ]
    },
    {
     "name": "stderr",
     "output_type": "stream",
     "text": [
      "IOPub data rate exceeded.\n",
      "The notebook server will temporarily stop sending output\n",
      "to the client in order to avoid crashing it.\n",
      "To change this limit, set the config variable\n",
      "`--NotebookApp.iopub_data_rate_limit`.\n",
      "\n",
      "Current values:\n",
      "NotebookApp.iopub_data_rate_limit=1000000.0 (bytes/sec)\n",
      "NotebookApp.rate_limit_window=3.0 (secs)\n",
      "\n"
     ]
    },
    {
     "name": "stdout",
     "output_type": "stream",
     "text": [
      "Update: 16768\n",
      "Delete: 16768\n"
     ]
    }
   ],
   "source": [
    "from crud import AnimalShelter\n",
    "import os\n",
    "\n",
    "# Connection details\n",
    "MONGO_HOST = 'nv-desktop-services.apporto.com'\n",
    "MONGO_PORT = 31593\n",
    "MONGO_USER = 'aacuser'\n",
    "MONGO_PASS = 'VUDEHSNHUCS340'\n",
    "\n",
    "# Instantiate the AnimalShelter class\n",
    "shelter = AnimalShelter(MONGO_HOST, MONGO_PORT, MONGO_USER, MONGO_PASS)\n",
    "\n",
    "# Test Create operation\n",
    "new_animal = {\n",
    "    \"age_upon_outcome_in_weeks\": 12,\n",
    "    \"animal_type\": \"Dog\",\n",
    "    \"breed\": \"Labrador Retriever Mix\",\n",
    "    \"color\": \"Black/White\",\n",
    "    \"date_of_birth\": \"2021-04-20\",\n",
    "    \"outcome_type\": \"Adoption\"\n",
    "}\n",
    "print(\"Create:\", shelter.create(new_animal))\n",
    "\n",
    "# Test Read operation\n",
    "query = {\"animal_type\": \"Dog\"}\n",
    "print(\"Read:\", shelter.read(query))\n",
    "\n",
    "# Test Update operation\n",
    "update_query = {\"animal_type\": \"Dog\"}\n",
    "update_data = {\"color\": \"Black/White/Brown\"}\n",
    "print(\"Update:\", shelter.update(update_query, update_data))\n",
    "\n",
    "# Test Delete operation\n",
    "delete_query = {\"animal_type\": \"Dog\"}\n",
    "print(\"Delete:\", shelter.delete(delete_query))\n"
   ]
  },
  {
   "cell_type": "code",
   "execution_count": 2,
   "id": "0a0ba1a9",
   "metadata": {},
   "outputs": [
    {
     "name": "stdout",
     "output_type": "stream",
     "text": [
      "Create: True\n",
      "{'_id': ObjectId('66665f643df16711e5cd9390'), 'age_upon_outcome_in_weeks': 12, 'animal_type': 'Dog', 'breed': 'Labrador Retriever Mix', 'color': 'Black/White', 'date_of_birth': '2021-04-20', 'outcome_type': 'Adoption'}\n",
      "Update: 1\n",
      "Delete: 1\n"
     ]
    }
   ],
   "source": [
    "from crud import AnimalShelter\n",
    "import os\n",
    "\n",
    "# Connection details\n",
    "MONGO_HOST = 'nv-desktop-services.apporto.com'\n",
    "MONGO_PORT = 31593\n",
    "MONGO_USER = 'aacuser'\n",
    "MONGO_PASS = 'VUDEHSNHUCS340'\n",
    "\n",
    "# Instantiate the AnimalShelter class\n",
    "shelter = AnimalShelter(MONGO_HOST, MONGO_PORT, MONGO_USER, MONGO_PASS)\n",
    "\n",
    "# Test Create operation\n",
    "new_animal = {\n",
    "    \"age_upon_outcome_in_weeks\": 12,\n",
    "    \"animal_type\": \"Dog\",\n",
    "    \"breed\": \"Labrador Retriever Mix\",\n",
    "    \"color\": \"Black/White\",\n",
    "    \"date_of_birth\": \"2021-04-20\",\n",
    "    \"outcome_type\": \"Adoption\"\n",
    "}\n",
    "print(\"Create:\", shelter.create(new_animal))\n",
    "\n",
    "# Test Read operation with limit\n",
    "query = {\"animal_type\": \"Dog\"}\n",
    "results = shelter.read(query)\n",
    "limited_results = results[:10]  # Limiting output to the first 10 documents\n",
    "for doc in limited_results:\n",
    "    print(doc)\n",
    "\n",
    "# Test Update operation\n",
    "update_query = {\"animal_type\": \"Dog\"}\n",
    "update_data = {\"color\": \"Black/White/Brown\"}\n",
    "print(\"Update:\", shelter.update(update_query, update_data))\n",
    "\n",
    "# Test Delete operation\n",
    "delete_query = {\"animal_type\": \"Dog\"}\n",
    "print(\"Delete:\", shelter.delete(delete_query))\n"
   ]
  },
  {
   "cell_type": "code",
   "execution_count": null,
   "id": "952db83e",
   "metadata": {},
   "outputs": [],
   "source": []
  }
 ],
 "metadata": {
  "kernelspec": {
   "display_name": "Python 3 (ipykernel)",
   "language": "python",
   "name": "python3"
  },
  "language_info": {
   "codemirror_mode": {
    "name": "ipython",
    "version": 3
   },
   "file_extension": ".py",
   "mimetype": "text/x-python",
   "name": "python",
   "nbconvert_exporter": "python",
   "pygments_lexer": "ipython3",
   "version": "3.9.12"
  }
 },
 "nbformat": 4,
 "nbformat_minor": 5
}
